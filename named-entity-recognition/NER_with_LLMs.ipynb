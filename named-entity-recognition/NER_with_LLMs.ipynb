{
 "cells": [
  {
   "cell_type": "code",
   "execution_count": null,
   "metadata": {},
   "outputs": [],
   "source": [
    "# Requirements\n",
    "%pip install requests"
   ]
  },
  {
   "cell_type": "code",
   "execution_count": null,
   "metadata": {},
   "outputs": [],
   "source": [
    "# Import libraries\n",
    "import requests\n",
    "import json"
   ]
  },
  {
   "cell_type": "code",
   "execution_count": null,
   "metadata": {},
   "outputs": [],
   "source": [
    "# Function to perform NER using LLM\n",
    "def perform_ner(text):\n",
    "    prompt = f\"\"\"\n",
    "    Perform Named Entity Recognition (NER) on the text below. Follow these rules STRICTLY:\n",
    "    1. Identify only these entity types: PRODUCT, BRAND, COLOR, SIZE, MATERIAL, STYLE.\n",
    "    2. Output MUST be valid JSON format matching this exact schema:\n",
    "    ```json\n",
    "    [\n",
    "        {{\"entity\": \"entity_name\", \"type\": \"ENTITY_TYPE\"}}\n",
    "    ]\n",
    "    3. Do NOT include any explanations, notes, or non-JSON text.\n",
    "    4. Do NOT return the given text to perform NER on, give only the JSON output.\n",
    "\n",
    "    5.If no entities exist, return empty list [].\n",
    "\n",
    "    6.Text: \"{text}\"\n",
    "\n",
    "    7.DO NOT PRINT ANYTHING OTHER THAN OUTPUT JSON:\"\"\"\n",
    "\n",
    "    response = requests.post(\n",
    "        \"http://localhost:11434/api/generate\",\n",
    "        json={\n",
    "            \"model\": \"deepseek-r1:14b\",\n",
    "            # \"model\": \"llama2:13b\",\n",
    "            \"prompt\": prompt,\n",
    "            \"stream\": False,\n",
    "            \"temperature\": 0.5,\n",
    "            \"frequency_penalty\": 0.5,\n",
    "        }\n",
    "    )\n",
    "    result = response.json()\n",
    "    print(\"Ollama API response:\", result)\n",
    "    # Ollama returns {'response': '...'}; extract and parse JSON from output\n",
    "    output = result['response']\n",
    "    try:\n",
    "        # Try to extract the JSON array from the output\n",
    "        entities = json.loads(output[output.find('['):output.rfind(']')+1])\n",
    "    except Exception as e:\n",
    "        entities = []\n",
    "    return entities"
   ]
  },
  {
   "cell_type": "code",
   "execution_count": null,
   "metadata": {},
   "outputs": [
    {
     "name": "stdout",
     "output_type": "stream",
     "text": [
      "Ollama API response: {'model': 'deepseek-r1:14b', 'created_at': '2025-05-13T09:03:10.556660932Z', 'response': '<think>\\nAlright, let\\'s tackle this NER task step by step. The user provided a text snippet about an H&M shirt and specified certain entity types to identify: PRODUCT, BRAND, COLOR, SIZE, MATERIAL, STYLE. They also emphasized strict adherence to the output format.\\n\\nFirst, I\\'ll read through the text carefully. The mention of \"H&M\" is clear; that\\'s definitely a BRAND. Next, looking for PRODUCT—I see it mentions \"Loose-fit shirt,\" which fits under PRODUCT. For MATERIAL, the description says \"woven linen and viscose blend,\" so both materials are identified there.\\n\\nI don\\'t see any indications of COLOR in the text, just descriptions like \\'airy\\' but that\\'s more of an adjective than a color name. SIZE isn\\'t mentioned either; it\\'s described as loose-fit, which relates to style rather than specific sizes. STYLE is covered with terms like \"Loose-fit,\" \"longer at back,\" and specifics about collars, buttons, etc.\\n\\nI need to ensure I\\'m only capturing the specified types and not adding anything extra. The output should be a JSON array of objects with entity names and their respective types. Also, no explanations or text outside of JSON are allowed, so I\\'ll make sure it\\'s just the formatted list.\\n\\nDouble-checking the rules: entities only in those six types, strict JSON format without any extra text, return an empty list if nothing is found. In this case, I have BRAND, PRODUCT, and MATERIAL covered. No COLOR, SIZE, or STYLE entities beyond what\\'s already included under other categories. So the final output should reflect that.\\n</think>\\n\\n[\\n    {\"entity\": \"H&M\", \"type\": \"BRAND\"},\\n    {\"entity\": \"Loose-fit shirt\", \"type\": \"PRODUCT\"},\\n    {\"entity\": \"linen\", \"type\": \"MATERIAL\"},\\n    {\"entity\": \"viscose\", \"type\": \"MATERIAL\"}\\n]', 'done': True, 'done_reason': 'stop', 'context': [151644, 198, 262, 25001, 40459, 10390, 47598, 320, 13896, 8, 389, 279, 1467, 3685, 13, 11112, 1493, 5601, 29010, 8932, 510, 262, 220, 16, 13, 64547, 1172, 1493, 5387, 4494, 25, 38083, 11, 89954, 11, 25419, 11, 25341, 11, 75123, 11, 62947, 624, 262, 220, 17, 13, 9258, 27732, 387, 2697, 4718, 3561, 12579, 419, 4734, 10802, 510, 262, 54275, 2236, 198, 262, 2278, 286, 5212, 2996, 788, 330, 2996, 1269, 497, 330, 1313, 788, 330, 31174, 4189, 16707, 262, 5133, 262, 220, 18, 13, 3155, 4183, 2924, 894, 40841, 11, 8388, 11, 476, 2477, 12, 5370, 1467, 624, 262, 220, 19, 13, 3155, 4183, 470, 279, 2661, 1467, 311, 2736, 451, 640, 389, 11, 2968, 1172, 279, 4718, 2550, 382, 262, 220, 20, 32901, 902, 14744, 3000, 11, 470, 4287, 1140, 3056, 382, 262, 220, 21, 1979, 25, 6228, 5009, 609, 4946, 198, 39, 39216, 25661, 24145, 3564, 92098, 198, 4262, 960, 49560, 15478, 304, 458, 96963, 11, 55774, 54015, 323, 58565, 960, 20334, 13, 12905, 277, 11, 12424, 518, 4065, 11, 12226, 26906, 11, 323, 1293, 42375, 448, 3137, 518, 89469, 13, 57450, 17280, 11, 5021, 518, 1182, 624, 1837, 262, 220, 22, 68111, 4183, 35893, 4137, 56664, 10065, 90006, 30990, 4718, 25, 151645, 151648, 198, 71486, 11, 1077, 594, 21403, 419, 451, 640, 3383, 3019, 553, 3019, 13, 576, 1196, 3897, 264, 1467, 43065, 911, 458, 472, 39216, 15478, 323, 5189, 3654, 5387, 4494, 311, 10542, 25, 38083, 11, 89954, 11, 25419, 11, 25341, 11, 75123, 11, 62947, 13, 2379, 1083, 45628, 7304, 70528, 311, 279, 2550, 3561, 382, 5338, 11, 358, 3278, 1349, 1526, 279, 1467, 15516, 13, 576, 6286, 315, 330, 39, 39216, 1, 374, 2797, 26, 429, 594, 8491, 264, 89954, 13, 9295, 11, 3330, 369, 38083, 50657, 1490, 432, 33845, 330, 4262, 960, 49560, 15478, 1335, 892, 18304, 1212, 38083, 13, 1752, 75123, 11, 279, 4008, 2727, 330, 86, 16253, 54015, 323, 58565, 960, 20334, 1335, 773, 2176, 7236, 525, 10820, 1052, 382, 40, 1513, 944, 1490, 894, 55090, 315, 25419, 304, 279, 1467, 11, 1101, 27787, 1075, 364, 21939, 6, 714, 429, 594, 803, 315, 458, 84492, 1091, 264, 1894, 829, 13, 25341, 4436, 944, 9733, 2987, 26, 432, 594, 7481, 438, 20174, 49560, 11, 892, 35616, 311, 1707, 4751, 1091, 3151, 12282, 13, 62947, 374, 9761, 448, 3793, 1075, 330, 4262, 960, 49560, 1335, 330, 4825, 261, 518, 1182, 1335, 323, 48349, 911, 4530, 1561, 11, 12424, 11, 4992, 382, 40, 1184, 311, 5978, 358, 2776, 1172, 39780, 279, 5189, 4494, 323, 537, 7842, 4113, 4960, 13, 576, 2550, 1265, 387, 264, 4718, 1334, 315, 6171, 448, 5387, 5036, 323, 862, 19511, 4494, 13, 7281, 11, 902, 40841, 476, 1467, 4889, 315, 4718, 525, 5420, 11, 773, 358, 3278, 1281, 2704, 432, 594, 1101, 279, 23126, 1140, 382, 7378, 15934, 287, 279, 5601, 25, 14744, 1172, 304, 1846, 4743, 4494, 11, 7304, 4718, 3561, 2041, 894, 4960, 1467, 11, 470, 458, 4287, 1140, 421, 4302, 374, 1730, 13, 758, 419, 1142, 11, 358, 614, 89954, 11, 38083, 11, 323, 75123, 9761, 13, 2308, 25419, 11, 25341, 11, 476, 62947, 14744, 7797, 1128, 594, 2669, 5230, 1212, 1008, 11059, 13, 2055, 279, 1590, 2550, 1265, 8708, 429, 624, 151649, 271, 9640, 262, 5212, 2996, 788, 330, 39, 39216, 497, 330, 1313, 788, 330, 13095, 3976, 7115, 262, 5212, 2996, 788, 330, 4262, 960, 49560, 15478, 497, 330, 1313, 788, 330, 51431, 7115, 262, 5212, 2996, 788, 330, 3732, 268, 497, 330, 1313, 788, 330, 44, 44407, 7115, 262, 5212, 2996, 788, 330, 2682, 66, 960, 497, 330, 1313, 788, 330, 44, 44407, 16707, 60], 'total_duration': 100535006167, 'load_duration': 12104160, 'prompt_eval_count': 207, 'prompt_eval_duration': 1056853591, 'eval_count': 397, 'eval_duration': 99465548856}\n",
      "Model reply: [{'entity': 'H&M', 'type': 'BRAND'}, {'entity': 'Loose-fit shirt', 'type': 'PRODUCT'}, {'entity': 'linen', 'type': 'MATERIAL'}, {'entity': 'viscose', 'type': 'MATERIAL'}]\n"
     ]
    }
   ],
   "source": [
    "# Sample text to perform NER on\n",
    "text = \"\"\"\n",
    "Description & fit\n",
    "H&M Premium SelectionNew Arrival\n",
    "Loose-fit shirt in an airy, woven linen and viscose blend. Collar, buttons at front, dropped shoulders, and long sleeves with button at cuffs. Rounded hem, longer at back.\n",
    "\"\"\"\n",
    "\n",
    "# print(perform_ner(text))\n",
    "print(\"Model reply:\", perform_ner(text))\n"
   ]
  }
 ],
 "metadata": {
  "kernelspec": {
   "display_name": "Python 3 (ipykernel)",
   "language": "python",
   "name": "python3"
  }
 },
 "nbformat": 4,
 "nbformat_minor": 2
}
