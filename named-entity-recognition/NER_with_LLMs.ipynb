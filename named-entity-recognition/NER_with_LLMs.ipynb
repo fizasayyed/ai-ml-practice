{
 "cells": [
  {
   "cell_type": "code",
   "execution_count": 1,
   "metadata": {},
   "outputs": [
    {
     "name": "stdout",
     "output_type": "stream",
     "text": [
      "Requirement already satisfied: requests in ./.pyenv/versions/3.8.20/lib/python3.8/site-packages (2.32.3)\n",
      "Requirement already satisfied: charset-normalizer<4,>=2 in ./.pyenv/versions/3.8.20/lib/python3.8/site-packages (from requests) (3.4.1)\n",
      "Requirement already satisfied: idna<4,>=2.5 in ./.pyenv/versions/3.8.20/lib/python3.8/site-packages (from requests) (3.10)\n",
      "Requirement already satisfied: urllib3<3,>=1.21.1 in ./.pyenv/versions/3.8.20/lib/python3.8/site-packages (from requests) (1.26.20)\n",
      "Requirement already satisfied: certifi>=2017.4.17 in ./.pyenv/versions/3.8.20/lib/python3.8/site-packages (from requests) (2025.1.31)\n",
      "Note: you may need to restart the kernel to use updated packages.\n"
     ]
    }
   ],
   "source": [
    "%pip install requests"
   ]
  },
  {
   "cell_type": "code",
   "execution_count": 2,
   "metadata": {},
   "outputs": [],
   "source": [
    "import requests\n",
    "import json"
   ]
  },
  {
   "cell_type": "code",
   "execution_count": 6,
   "metadata": {},
   "outputs": [],
   "source": [
    "def perform_ner(text):\n",
    "    prompt = f\"\"\"\n",
    "    Perform Named Entity Recognition (NER) on the text below. Follow these rules STRICTLY:\n",
    "    1. Identify only these entity types: PERSON, ORGANIZATION, LOCATION, DATE.\n",
    "    2. Output MUST be valid JSON format matching this exact schema:\n",
    "    ```json\n",
    "    [\n",
    "        {{\"entity\": \"entity_name\", \"type\": \"ENTITY_TYPE\"}}\n",
    "    ]\n",
    "    3. Do NOT include any explanations, notes, or non-JSON text.\n",
    "    4. Do NOT return the given text to perform NER on, give only the JSON output.\n",
    "\n",
    "    5.If no entities exist, return empty list [].\n",
    "\n",
    "    6.Text: \"{text}\"\n",
    "\n",
    "    7.DO NOT PRINT ANYTHING OTHER THAN OUTPUT JSON:\"\"\"\n",
    "\n",
    "    response = requests.post(\n",
    "        \"http://localhost:11434/api/generate\",\n",
    "        json={\n",
    "            \"model\": \"deepseek-r1:14b\",\n",
    "            # \"model\": \"llama2:13b\",\n",
    "            \"prompt\": prompt,\n",
    "            \"stream\": False\n",
    "        }\n",
    "    )\n",
    "    result = response.json()\n",
    "    print(\"Ollama API response:\", result)\n",
    "    # Ollama returns {'response': '...'}; extract and parse JSON from output\n",
    "    output = result['response']\n",
    "    try:\n",
    "        # Try to extract the JSON array from the output\n",
    "        entities = json.loads(output[output.find('['):output.rfind(']')+1])\n",
    "    except Exception as e:\n",
    "        entities = []\n",
    "    return entities"
   ]
  },
  {
   "cell_type": "code",
   "execution_count": 7,
   "metadata": {},
   "outputs": [
    {
     "name": "stdout",
     "output_type": "stream",
     "text": [
      "Ollama API response: {'model': 'deepseek-r1:14b', 'created_at': '2025-05-13T06:01:51.663368296Z', 'response': '<think>\\nOkay, I need to perform Named Entity Recognition on the given text following specific rules. Let me go through it step by step.\\n\\nFirst, the user has provided a detailed text about Tim Cook and his career. My task is to identify entities of types PERSON, ORGANIZATION, LOCATION, or DATE only.\\n\\nI\\'ll start reading the text carefully:\\n\\n- \"Tim Cook\" is clearly a PERSON.\\n- \"(born November 1, 1960, Mobile, Alabama, U.S.)\": Here, November 1, 1960 is a DATE. Mobile and Alabama are both LOCATIONS (cities and states).\\n- \"Apple Inc.\" is an ORGANIZATION.\\n- He grew up in Robertsdale, which is another LOCATION (city) in Alabama.\\n- \"Auburn University\" is an ORGANIZATION (institution), located in Alabama.\\n- \"Duke University\" is an ORGANIZATION in Durham, North Carolina. So, Durham and North Carolina are LOCATIONS.\\n- IBM is an ORGANIZATION.\\n- \"Intelligent Electronics, Inc.\" is another ORGANIZATION.\\n- Compaq Computer Corporation is also an ORGANIZATION.\\n\\nI need to extract each of these entities without including any explanations. Also, make sure the output is in valid JSON format as specified: an array with objects having \"entity\" and \"type\" keys.\\n\\nLet me list all the identified entities:\\n\\n1. Tim Cook - PERSON\\n2. November 1, 1960 - DATE\\n3. Mobile - LOCATION (city)\\n4. Alabama - LOCATION (state)\\n5. U.S. - LOCATION (country), but according to the rules, country might not be considered unless specified. The user didn\\'t mention it as a separate type; perhaps it\\'s part of LOCATION.\\n6. Apple Inc. - ORGANIZATION\\n7. Robertsdale - LOCATION (city)\\n8. Auburn University - ORGANIZATION\\n9. Duke University - ORGANIZATION\\n10. Durham, North Carolina - LOCATION (city and state)\\n11. IBM - ORGANIZATION\\n12. Intelligent Electronics, Inc. - ORGANIZATION\\n13. Compaq Computer Corporation - ORGANIZATION\\n\\nWait, the user\\'s rules say to include only PERSON, ORGANIZATION, LOCATION, DATE. So, each occurrence of these entities needs to be captured.\\n\\nI should make sure that each entity is a separate entry in the JSON array, even if they repeat or are similar.\\n\\nNow, let me structure the output accordingly, ensuring it matches the exact schema and is valid JSON.\\n</think>\\n\\n```json\\n[\\n    {\"entity\": \"Tim Cook\", \"type\": \"PERSON\"},\\n    {\"entity\": \"November 1, 1960\", \"type\": \"DATE\"},\\n    {\"entity\": \"Mobile\", \"type\": \"LOCATION\"},\\n    {\"entity\": \"Alabama\", \"type\": \"LOCATION\"},\\n    {\"entity\": \"Apple Inc.\", \"type\": \"ORGANIZATION\"},\\n    {\"entity\": \"Robertsdale\", \"type\": \"LOCATION\"},\\n    {\"entity\": \"Auburn University\", \"type\": \"ORGANIZATION\"},\\n    {\"entity\": \"Duke University\", \"type\": \"ORGANIZATION\"},\\n    {\"entity\": \"Durham, North Carolina\", \"type\": \"LOCATION\"},\\n    {\"entity\": \"IBM\", \"type\": \"ORGANIZATION\"},\\n    {\"entity\": \"Intelligent Electronics, Inc.\", \"type\": \"ORGANIZATION\"},\\n    {\"entity\": \"Compaq Computer Corporation\", \"type\": \"ORGANIZATION\"}\\n]\\n```', 'done': True, 'done_reason': 'stop', 'context': [151644, 198, 262, 25001, 40459, 10390, 47598, 320, 13896, 8, 389, 279, 1467, 3685, 13, 11112, 1493, 5601, 29010, 8932, 510, 262, 220, 16, 13, 64547, 1172, 1493, 5387, 4494, 25, 56377, 11, 2726, 58487, 49025, 11, 65583, 11, 28543, 624, 262, 220, 17, 13, 9258, 27732, 387, 2697, 4718, 3561, 12579, 419, 4734, 10802, 510, 262, 54275, 2236, 198, 262, 2278, 286, 5212, 2996, 788, 330, 2996, 1269, 497, 330, 1313, 788, 330, 31174, 4189, 16707, 262, 5133, 262, 220, 18, 13, 3155, 4183, 2924, 894, 40841, 11, 8388, 11, 476, 2477, 12, 5370, 1467, 624, 262, 220, 19, 13, 3155, 4183, 470, 279, 2661, 1467, 311, 2736, 451, 640, 389, 11, 2968, 1172, 279, 4718, 2550, 382, 262, 220, 20, 32901, 902, 14744, 3000, 11, 470, 4287, 1140, 3056, 382, 262, 220, 21, 1979, 25, 6228, 20217, 12514, 320, 15998, 6702, 220, 16, 11, 220, 16, 24, 21, 15, 11, 13411, 11, 20623, 11, 547, 808, 6138, 374, 458, 3693, 5440, 10905, 879, 702, 1012, 279, 10178, 10905, 9452, 320, 78496, 8, 315, 279, 5440, 2813, 8162, 4848, 13, 2474, 220, 17, 15, 16, 16, 624, 58382, 13938, 705, 304, 8397, 83682, 11, 20623, 13, 1260, 32009, 504, 52349, 3822, 304, 20623, 448, 264, 48583, 748, 8381, 304, 12785, 14667, 304, 220, 16, 24, 23, 17, 11, 323, 304, 220, 16, 24, 23, 23, 566, 3949, 264, 7341, 748, 304, 2562, 8567, 504, 26356, 3822, 304, 57714, 11, 4787, 12740, 13, 1260, 6439, 369, 279, 6366, 13963, 7179, 8025, 43904, 13034, 320, 67738, 8, 504, 220, 16, 24, 23, 17, 311, 220, 16, 24, 24, 19, 11, 448, 806, 1590, 2309, 1660, 7538, 315, 4787, 3693, 56283, 13, 1260, 572, 27420, 10178, 10350, 5163, 315, 279, 592, 7073, 12804, 518, 279, 6366, 36791, 77088, 37684, 11, 4848, 13, 320, 16, 24, 24, 19, 4142, 24, 22, 701, 323, 16774, 4767, 315, 12870, 7236, 518, 279, 6366, 13963, 1198, 6595, 80, 17407, 13034, 320, 16, 24, 24, 22, 4292, 1837, 262, 220, 22, 68111, 4183, 35893, 4137, 56664, 10065, 90006, 30990, 4718, 25, 151645, 151648, 198, 32313, 11, 358, 1184, 311, 2736, 40459, 10390, 47598, 389, 279, 2661, 1467, 2701, 3151, 5601, 13, 6771, 752, 728, 1526, 432, 3019, 553, 3019, 382, 5338, 11, 279, 1196, 702, 3897, 264, 11682, 1467, 911, 9354, 12514, 323, 806, 6931, 13, 3017, 3383, 374, 311, 10542, 14744, 315, 4494, 56377, 11, 2726, 58487, 49025, 11, 65583, 11, 476, 28543, 1172, 382, 40, 3278, 1191, 5290, 279, 1467, 15516, 1447, 12, 330, 20217, 12514, 1, 374, 9355, 264, 56377, 624, 12, 11993, 15998, 6702, 220, 16, 11, 220, 16, 24, 21, 15, 11, 13411, 11, 20623, 11, 547, 808, 6138, 788, 5692, 11, 6702, 220, 16, 11, 220, 16, 24, 21, 15, 374, 264, 28543, 13, 13411, 323, 20623, 525, 2176, 27096, 21792, 320, 53009, 323, 5302, 4292, 12, 330, 26567, 4848, 1189, 374, 458, 2726, 58487, 49025, 624, 12, 1260, 13938, 705, 304, 8397, 83682, 11, 892, 374, 2441, 65583, 320, 8926, 8, 304, 20623, 624, 12, 330, 32, 392, 399, 3822, 1, 374, 458, 2726, 58487, 49025, 320, 81309, 701, 7407, 304, 20623, 624, 12, 330, 35, 10430, 3822, 1, 374, 458, 2726, 58487, 49025, 304, 57714, 11, 4787, 12740, 13, 2055, 11, 57714, 323, 4787, 12740, 525, 27096, 21792, 624, 12, 27922, 374, 458, 2726, 58487, 49025, 624, 12, 330, 1072, 20509, 37684, 11, 4848, 1189, 374, 2441, 2726, 58487, 49025, 624, 12, 1198, 6595, 80, 17407, 13034, 374, 1083, 458, 2726, 58487, 49025, 382, 40, 1184, 311, 8649, 1817, 315, 1493, 14744, 2041, 2670, 894, 40841, 13, 7281, 11, 1281, 2704, 279, 2550, 374, 304, 2697, 4718, 3561, 438, 5189, 25, 458, 1334, 448, 6171, 3432, 330, 2996, 1, 323, 330, 1313, 1, 6894, 382, 10061, 752, 1140, 678, 279, 10820, 14744, 1447, 16, 13, 9354, 12514, 481, 56377, 198, 17, 13, 6702, 220, 16, 11, 220, 16, 24, 21, 15, 481, 28543, 198, 18, 13, 13411, 481, 65583, 320, 8926, 340, 19, 13, 20623, 481, 65583, 320, 2454, 340, 20, 13, 547, 808, 13, 481, 65583, 320, 11141, 701, 714, 4092, 311, 279, 5601, 11, 3146, 2578, 537, 387, 6509, 7241, 5189, 13, 576, 1196, 3207, 944, 6286, 432, 438, 264, 8651, 943, 26, 8365, 432, 594, 949, 315, 65583, 624, 21, 13, 8162, 4848, 13, 481, 2726, 58487, 49025, 198, 22, 13, 8397, 83682, 481, 65583, 320, 8926, 340, 23, 13, 52349, 3822, 481, 2726, 58487, 49025, 198, 24, 13, 26356, 3822, 481, 2726, 58487, 49025, 198, 16, 15, 13, 57714, 11, 4787, 12740, 481, 65583, 320, 8926, 323, 1584, 340, 16, 16, 13, 27922, 481, 2726, 58487, 49025, 198, 16, 17, 13, 77088, 37684, 11, 4848, 13, 481, 2726, 58487, 49025, 198, 16, 18, 13, 1198, 6595, 80, 17407, 13034, 481, 2726, 58487, 49025, 271, 14190, 11, 279, 1196, 594, 5601, 1977, 311, 2924, 1172, 56377, 11, 2726, 58487, 49025, 11, 65583, 11, 28543, 13, 2055, 11, 1817, 31559, 315, 1493, 14744, 3880, 311, 387, 17006, 382, 40, 1265, 1281, 2704, 429, 1817, 5387, 374, 264, 8651, 4343, 304, 279, 4718, 1334, 11, 1496, 421, 807, 13153, 476, 525, 4428, 382, 7039, 11, 1077, 752, 5944, 279, 2550, 27079, 11, 22573, 432, 9071, 279, 4734, 10802, 323, 374, 2697, 4718, 624, 151649, 271, 73594, 2236, 198, 9640, 262, 5212, 2996, 788, 330, 20217, 12514, 497, 330, 1313, 788, 330, 93183, 7115, 262, 5212, 2996, 788, 330, 33727, 220, 16, 11, 220, 16, 24, 21, 15, 497, 330, 1313, 788, 330, 7097, 7115, 262, 5212, 2996, 788, 330, 18370, 497, 330, 1313, 788, 330, 34224, 7115, 262, 5212, 2996, 788, 330, 97811, 497, 330, 1313, 788, 330, 34224, 7115, 262, 5212, 2996, 788, 330, 26567, 4848, 10465, 330, 1313, 788, 330, 44927, 1093, 49025, 7115, 262, 5212, 2996, 788, 330, 34532, 83682, 497, 330, 1313, 788, 330, 34224, 7115, 262, 5212, 2996, 788, 330, 32, 392, 399, 3822, 497, 330, 1313, 788, 330, 44927, 1093, 49025, 7115, 262, 5212, 2996, 788, 330, 35, 10430, 3822, 497, 330, 1313, 788, 330, 44927, 1093, 49025, 7115, 262, 5212, 2996, 788, 330, 53033, 5604, 11, 4787, 12740, 497, 330, 1313, 788, 330, 34224, 7115, 262, 5212, 2996, 788, 330, 67738, 497, 330, 1313, 788, 330, 44927, 1093, 49025, 7115, 262, 5212, 2996, 788, 330, 1072, 20509, 37684, 11, 4848, 10465, 330, 1313, 788, 330, 44927, 1093, 49025, 7115, 262, 5212, 2996, 788, 330, 1092, 6595, 80, 17407, 13034, 497, 330, 1313, 788, 330, 44927, 1093, 49025, 16707, 921, 73594], 'total_duration': 189304606071, 'load_duration': 5887159303, 'prompt_eval_count': 346, 'prompt_eval_duration': 9749022241, 'eval_count': 735, 'eval_duration': 173667734548}\n",
      "Model reply: [{'entity': 'Tim Cook', 'type': 'PERSON'}, {'entity': 'November 1, 1960', 'type': 'DATE'}, {'entity': 'Mobile', 'type': 'LOCATION'}, {'entity': 'Alabama', 'type': 'LOCATION'}, {'entity': 'Apple Inc.', 'type': 'ORGANIZATION'}, {'entity': 'Robertsdale', 'type': 'LOCATION'}, {'entity': 'Auburn University', 'type': 'ORGANIZATION'}, {'entity': 'Duke University', 'type': 'ORGANIZATION'}, {'entity': 'Durham, North Carolina', 'type': 'LOCATION'}, {'entity': 'IBM', 'type': 'ORGANIZATION'}, {'entity': 'Intelligent Electronics, Inc.', 'type': 'ORGANIZATION'}, {'entity': 'Compaq Computer Corporation', 'type': 'ORGANIZATION'}]\n"
     ]
    }
   ],
   "source": [
    "text = \"\"\"\n",
    "Tim Cook (born November 1, 1960, Mobile, Alabama, U.S.) is an American technology executive who has been the chief executive officer (CEO) of the technology company Apple Inc. since 2011.\n",
    "Cook grew up in Robertsdale, Alabama. He graduated from Auburn University in Alabama with a bachelor’s degree in industrial engineering in 1982, and in 1988 he received a master’s in business administration from Duke University in Durham, North Carolina. He worked for the computer manufacturer International Business Machines Corporation (IBM) from 1982 to 1994, with his final position being director of North American fulfillment. He was subsequently chief operating office of the reseller division at the computer retailer Intelligent Electronics, Inc. (1994–97), and vice president of corporate materials at the computer manufacturer Compaq Computer Corporation (1997).\n",
    "\"\"\"\n",
    "\n",
    "# print(perform_ner(text))\n",
    "print(\"Model reply:\", perform_ner(text))\n"
   ]
  }
 ],
 "metadata": {
  "kernelspec": {
   "display_name": "Python 3 (ipykernel)",
   "language": "python",
   "name": "python3"
  },
  "language_info": {
   "codemirror_mode": {
    "name": "ipython",
    "version": 3
   },
   "file_extension": ".py",
   "mimetype": "text/x-python",
   "name": "python",
   "nbconvert_exporter": "python",
   "pygments_lexer": "ipython3",
   "version": "3.8.20"
  }
 },
 "nbformat": 4,
 "nbformat_minor": 2
}
