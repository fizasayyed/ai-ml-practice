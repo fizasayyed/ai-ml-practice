{
 "cells": [
  {
   "cell_type": "code",
   "execution_count": 1,
   "metadata": {},
   "outputs": [],
   "source": [
    "# 1. Import libraries\n",
    "import requests"
   ]
  },
  {
   "cell_type": "code",
   "execution_count": 2,
   "metadata": {},
   "outputs": [],
   "source": [
    "# 2. Ollama endpoint\n",
    "url = \"http://localhost:11434/api/generate\""
   ]
  },
  {
   "cell_type": "code",
   "execution_count": null,
   "metadata": {},
   "outputs": [],
   "source": [
    "# 3. Function to generate description from keywords\n",
    "def generate_description_from_keywords(keywords, model=\"deepseek-r1:14b\"):\n",
    "    # prompt\n",
    "    keywords_text = \", \".join([kw[\"entity\"] for kw in keywords])\n",
    "    prompt = f\"Generate a short, engaging product description using the following keywords: {keywords_text}.\"\n",
    "\n",
    "    # trying system prompt which will be a special instruction from my side to add more\n",
    "    # context behaviour or constraints if i need\n",
    "    system_prompt = \"You are a helpful assistant that generates engaging product descriptions based on given keywords.\"\n",
    "\n",
    "    payload = {\n",
    "        \"model\": model,\n",
    "        \"prompt\": prompt,\n",
    "        \"stream\": False,\n",
    "        \"system_prompt\": system_prompt\n",
    "    }\n",
    "\n",
    "    if system_prompt:\n",
    "        payload[\"system\"] = system_prompt\n",
    "\n",
    "    # request to local server\n",
    "    response = requests.post(url, json=payload)\n",
    "\n",
    "    if response.status_code == 200:\n",
    "        return response.json()['response'].strip()\n",
    "    else:\n",
    "        raise Exception(f\"Failed to generate: {response.text}\")"
   ]
  },
  {
   "cell_type": "code",
   "execution_count": 4,
   "metadata": {},
   "outputs": [],
   "source": [
    "# 4. Example input\n",
    "keywords = [\n",
    "    {\"entity\": \"H&M\", \"type\": \"BRAND\"},\n",
    "    {\"entity\": \"Loose-fit shirt\", \"type\": \"PRODUCT\"},\n",
    "    {\"entity\": \"linen\", \"type\": \"MATERIAL\"},\n",
    "    {\"entity\": \"viscose\", \"type\": \"MATERIAL\"}\n",
    "]"
   ]
  },
  {
   "cell_type": "code",
   "execution_count": null,
   "metadata": {},
   "outputs": [
    {
     "name": "stdout",
     "output_type": "stream",
     "text": [
      "🔹 Generated Product Description:\n",
      "\n",
      "<think>\n",
      "Okay, I need to help create a short and engaging product description using the given keywords: H&M, Loose-fit shirt, linen, viscose.\n",
      "\n",
      "First, let me understand each keyword:\n",
      "\n",
      "- **H&M**: A well-known fashion retailer, so it's about their products.\n",
      "- **Loose-fit shirt**: Comfortable, relaxed style, maybe breathable fabric.\n",
      "- **Linen**: Natural fiber, known for being cool and breathable, often used in summer clothes.\n",
      "- **Viscose**: A semi-synthetic fabric, lightweight and soft, often used for dresses and shirts.\n",
      "\n",
      "So the product is a loose-fit shirt made from either linen or viscose. Since H&M sells affordable fashion, it's likely their version of such a shirt would be stylish yet accessible.\n",
      "\n",
      "The goal is to make the description engaging, so I need to highlight comfort, style, and fabric benefits. Maybe mention versatility too, like how it can be worn in different ways.\n",
      "\n",
      "Putting this together:\n",
      "\n",
      "\"H&M Loose-Fit Linen & Viscose Shirt: Comfort meets style with our effortlessly chic loose-fit shirt crafted from breathable linen and soft viscose. Perfect for any occasion, this versatile piece is designed to keep you cool and confident all day long.\"\n",
      "\n",
      "Wait, does that cover all the keywords? H&M is there, loose-fit shirt, linen and viscose are both mentioned. It highlights comfort, style, breathability, versatility, and suitability for various occasions.\n",
      "\n",
      "Is there a better way to structure it? Maybe start with the product name, then describe its features and benefits.\n",
      "\n",
      "Yes, that seems solid.\n",
      "</think>\n",
      "\n",
      "**H&M Loose-Fit Linen & Viscose Shirt: Experience ultimate comfort with our stylish loose-fit shirt. Crafted from breathable linen and soft viscose, this versatile piece keeps you cool and confident for every occasion. Elevate your wardrobe effortlessly!**\n"
     ]
    }
   ],
   "source": [
    "# 5. Generate description\n",
    "description = generate_description_from_keywords(keywords)\n",
    "print(\"Generated Product Description:\\n\")\n",
    "print(description)"
   ]
  }
 ],
 "metadata": {
  "kernelspec": {
   "display_name": "Python 3 (ipykernel)",
   "language": "python",
   "name": "python3"
  }
 },
 "nbformat": 4,
 "nbformat_minor": 2
}
