{
 "cells": [
  {
   "cell_type": "markdown",
   "metadata": {},
   "source": [
    "Following Datacamp article: https://www.datacamp.com/tutorial/llama-3-1-rag"
   ]
  },
  {
   "cell_type": "markdown",
   "metadata": {},
   "source": [
    "Set up the environment"
   ]
  },
  {
   "cell_type": "code",
   "execution_count": 97,
   "metadata": {},
   "outputs": [
    {
     "name": "stderr",
     "output_type": "stream",
     "text": [
      "huggingface/tokenizers: The current process just got forked, after parallelism has already been used. Disabling parallelism to avoid deadlocks...\n",
      "To disable this warning, you can either:\n",
      "\t- Avoid using `tokenizers` before the fork if possible\n",
      "\t- Explicitly set the environment variable TOKENIZERS_PARALLELISM=(true | false)\n"
     ]
    },
    {
     "name": "stdout",
     "output_type": "stream",
     "text": [
      "Requirement already satisfied: langchain in ./.pyenv/versions/3.8.20/lib/python3.8/site-packages (0.2.17)\n",
      "Requirement already satisfied: langchain_community in ./.pyenv/versions/3.8.20/lib/python3.8/site-packages (0.2.19)\n",
      "Requirement already satisfied: scikit-learn in ./.pyenv/versions/3.8.20/lib/python3.8/site-packages (1.3.2)\n",
      "Requirement already satisfied: langchain-ollama in ./.pyenv/versions/3.8.20/lib/python3.8/site-packages (0.1.3)\n",
      "Requirement already satisfied: sentence-transformers in ./.pyenv/versions/3.8.20/lib/python3.8/site-packages (3.2.1)\n",
      "Requirement already satisfied: tiktoken in ./.pyenv/versions/3.8.20/lib/python3.8/site-packages (0.7.0)\n",
      "Requirement already satisfied: PyYAML>=5.3 in ./.pyenv/versions/3.8.20/lib/python3.8/site-packages (from langchain) (6.0.2)\n",
      "Requirement already satisfied: SQLAlchemy<3,>=1.4 in ./.pyenv/versions/3.8.20/lib/python3.8/site-packages (from langchain) (2.0.39)\n",
      "Requirement already satisfied: aiohttp<4.0.0,>=3.8.3 in ./.pyenv/versions/3.8.20/lib/python3.8/site-packages (from langchain) (3.10.11)\n",
      "Requirement already satisfied: async-timeout<5.0.0,>=4.0.0 in ./.pyenv/versions/3.8.20/lib/python3.8/site-packages (from langchain) (4.0.3)\n",
      "Requirement already satisfied: langchain-core<0.3.0,>=0.2.43 in ./.pyenv/versions/3.8.20/lib/python3.8/site-packages (from langchain) (0.2.43)\n",
      "Requirement already satisfied: langchain-text-splitters<0.3.0,>=0.2.0 in ./.pyenv/versions/3.8.20/lib/python3.8/site-packages (from langchain) (0.2.4)\n",
      "Requirement already satisfied: langsmith<0.2.0,>=0.1.17 in ./.pyenv/versions/3.8.20/lib/python3.8/site-packages (from langchain) (0.1.147)\n",
      "Requirement already satisfied: numpy<2,>=1 in ./.pyenv/versions/3.8.20/lib/python3.8/site-packages (from langchain) (1.24.4)\n",
      "Requirement already satisfied: pydantic<3,>=1 in ./.pyenv/versions/3.8.20/lib/python3.8/site-packages (from langchain) (2.10.6)\n",
      "Requirement already satisfied: requests<3,>=2 in ./.pyenv/versions/3.8.20/lib/python3.8/site-packages (from langchain) (2.32.3)\n",
      "Requirement already satisfied: tenacity!=8.4.0,<9.0.0,>=8.1.0 in ./.pyenv/versions/3.8.20/lib/python3.8/site-packages (from langchain) (8.5.0)\n",
      "Requirement already satisfied: dataclasses-json<0.7,>=0.5.7 in ./.pyenv/versions/3.8.20/lib/python3.8/site-packages (from langchain_community) (0.6.7)\n",
      "Requirement already satisfied: scipy>=1.5.0 in ./.pyenv/versions/3.8.20/lib/python3.8/site-packages (from scikit-learn) (1.10.1)\n",
      "Requirement already satisfied: joblib>=1.1.1 in ./.pyenv/versions/3.8.20/lib/python3.8/site-packages (from scikit-learn) (1.4.2)\n",
      "Requirement already satisfied: threadpoolctl>=2.0.0 in ./.pyenv/versions/3.8.20/lib/python3.8/site-packages (from scikit-learn) (3.5.0)\n",
      "Requirement already satisfied: ollama<1,>=0.3.0 in ./.pyenv/versions/3.8.20/lib/python3.8/site-packages (from langchain-ollama) (0.4.7)\n",
      "Requirement already satisfied: transformers<5.0.0,>=4.41.0 in ./.pyenv/versions/3.8.20/lib/python3.8/site-packages (from sentence-transformers) (4.46.3)\n",
      "Requirement already satisfied: tqdm in ./.pyenv/versions/3.8.20/lib/python3.8/site-packages (from sentence-transformers) (4.65.2)\n",
      "Requirement already satisfied: torch>=1.11.0 in ./.pyenv/versions/3.8.20/lib/python3.8/site-packages (from sentence-transformers) (2.4.1)\n",
      "Requirement already satisfied: huggingface-hub>=0.20.0 in ./.pyenv/versions/3.8.20/lib/python3.8/site-packages (from sentence-transformers) (0.28.1)\n",
      "Requirement already satisfied: Pillow in ./.pyenv/versions/3.8.20/lib/python3.8/site-packages (from sentence-transformers) (10.4.0)\n",
      "Requirement already satisfied: regex>=2022.1.18 in ./.pyenv/versions/3.8.20/lib/python3.8/site-packages (from tiktoken) (2024.11.6)\n",
      "Requirement already satisfied: aiohappyeyeballs>=2.3.0 in ./.pyenv/versions/3.8.20/lib/python3.8/site-packages (from aiohttp<4.0.0,>=3.8.3->langchain) (2.4.4)\n",
      "Requirement already satisfied: aiosignal>=1.1.2 in ./.pyenv/versions/3.8.20/lib/python3.8/site-packages (from aiohttp<4.0.0,>=3.8.3->langchain) (1.3.1)\n",
      "Requirement already satisfied: attrs>=17.3.0 in ./.pyenv/versions/3.8.20/lib/python3.8/site-packages (from aiohttp<4.0.0,>=3.8.3->langchain) (25.2.0)\n",
      "Requirement already satisfied: frozenlist>=1.1.1 in ./.pyenv/versions/3.8.20/lib/python3.8/site-packages (from aiohttp<4.0.0,>=3.8.3->langchain) (1.5.0)\n",
      "Requirement already satisfied: multidict<7.0,>=4.5 in ./.pyenv/versions/3.8.20/lib/python3.8/site-packages (from aiohttp<4.0.0,>=3.8.3->langchain) (6.1.0)\n",
      "Requirement already satisfied: yarl<2.0,>=1.12.0 in ./.pyenv/versions/3.8.20/lib/python3.8/site-packages (from aiohttp<4.0.0,>=3.8.3->langchain) (1.15.2)\n",
      "Requirement already satisfied: marshmallow<4.0.0,>=3.18.0 in ./.pyenv/versions/3.8.20/lib/python3.8/site-packages (from dataclasses-json<0.7,>=0.5.7->langchain_community) (3.22.0)\n",
      "Requirement already satisfied: typing-inspect<1,>=0.4.0 in ./.pyenv/versions/3.8.20/lib/python3.8/site-packages (from dataclasses-json<0.7,>=0.5.7->langchain_community) (0.9.0)\n",
      "Requirement already satisfied: filelock in ./.pyenv/versions/3.8.20/lib/python3.8/site-packages (from huggingface-hub>=0.20.0->sentence-transformers) (3.14.0)\n",
      "Requirement already satisfied: fsspec>=2023.5.0 in ./.pyenv/versions/3.8.20/lib/python3.8/site-packages (from huggingface-hub>=0.20.0->sentence-transformers) (2024.6.1)\n",
      "Requirement already satisfied: packaging>=20.9 in ./.pyenv/versions/3.8.20/lib/python3.8/site-packages (from huggingface-hub>=0.20.0->sentence-transformers) (24.2)\n",
      "Requirement already satisfied: typing-extensions>=3.7.4.3 in ./.pyenv/versions/3.8.20/lib/python3.8/site-packages (from huggingface-hub>=0.20.0->sentence-transformers) (4.12.2)\n",
      "Requirement already satisfied: jsonpatch<2.0,>=1.33 in ./.pyenv/versions/3.8.20/lib/python3.8/site-packages (from langchain-core<0.3.0,>=0.2.43->langchain) (1.33)\n",
      "Requirement already satisfied: httpx<1,>=0.23.0 in ./.pyenv/versions/3.8.20/lib/python3.8/site-packages (from langsmith<0.2.0,>=0.1.17->langchain) (0.28.1)\n",
      "Requirement already satisfied: orjson<4.0.0,>=3.9.14 in ./.pyenv/versions/3.8.20/lib/python3.8/site-packages (from langsmith<0.2.0,>=0.1.17->langchain) (3.10.15)\n",
      "Requirement already satisfied: requests-toolbelt<2.0.0,>=1.0.0 in ./.pyenv/versions/3.8.20/lib/python3.8/site-packages (from langsmith<0.2.0,>=0.1.17->langchain) (1.0.0)\n",
      "Requirement already satisfied: annotated-types>=0.6.0 in ./.pyenv/versions/3.8.20/lib/python3.8/site-packages (from pydantic<3,>=1->langchain) (0.7.0)\n",
      "Requirement already satisfied: pydantic-core==2.27.2 in ./.pyenv/versions/3.8.20/lib/python3.8/site-packages (from pydantic<3,>=1->langchain) (2.27.2)\n",
      "Requirement already satisfied: charset-normalizer<4,>=2 in ./.pyenv/versions/3.8.20/lib/python3.8/site-packages (from requests<3,>=2->langchain) (3.4.1)\n",
      "Requirement already satisfied: idna<4,>=2.5 in ./.pyenv/versions/3.8.20/lib/python3.8/site-packages (from requests<3,>=2->langchain) (3.10)\n",
      "Requirement already satisfied: urllib3<3,>=1.21.1 in ./.pyenv/versions/3.8.20/lib/python3.8/site-packages (from requests<3,>=2->langchain) (1.26.20)\n",
      "Requirement already satisfied: certifi>=2017.4.17 in ./.pyenv/versions/3.8.20/lib/python3.8/site-packages (from requests<3,>=2->langchain) (2025.1.31)\n",
      "Requirement already satisfied: greenlet!=0.4.17 in ./.pyenv/versions/3.8.20/lib/python3.8/site-packages (from SQLAlchemy<3,>=1.4->langchain) (3.1.1)\n",
      "Requirement already satisfied: sympy in ./.pyenv/versions/3.8.20/lib/python3.8/site-packages (from torch>=1.11.0->sentence-transformers) (1.13.1)\n",
      "Requirement already satisfied: networkx in ./.pyenv/versions/3.8.20/lib/python3.8/site-packages (from torch>=1.11.0->sentence-transformers) (3.0)\n",
      "Requirement already satisfied: jinja2 in ./.pyenv/versions/3.8.20/lib/python3.8/site-packages (from torch>=1.11.0->sentence-transformers) (3.1.4)\n",
      "Requirement already satisfied: nvidia-cuda-nvrtc-cu12==12.1.105 in ./.pyenv/versions/3.8.20/lib/python3.8/site-packages (from torch>=1.11.0->sentence-transformers) (12.1.105)\n",
      "Requirement already satisfied: nvidia-cuda-runtime-cu12==12.1.105 in ./.pyenv/versions/3.8.20/lib/python3.8/site-packages (from torch>=1.11.0->sentence-transformers) (12.1.105)\n",
      "Requirement already satisfied: nvidia-cuda-cupti-cu12==12.1.105 in ./.pyenv/versions/3.8.20/lib/python3.8/site-packages (from torch>=1.11.0->sentence-transformers) (12.1.105)\n",
      "Requirement already satisfied: nvidia-cudnn-cu12==9.1.0.70 in ./.pyenv/versions/3.8.20/lib/python3.8/site-packages (from torch>=1.11.0->sentence-transformers) (9.1.0.70)\n",
      "Requirement already satisfied: nvidia-cublas-cu12==12.1.3.1 in ./.pyenv/versions/3.8.20/lib/python3.8/site-packages (from torch>=1.11.0->sentence-transformers) (12.1.3.1)\n",
      "Requirement already satisfied: nvidia-cufft-cu12==11.0.2.54 in ./.pyenv/versions/3.8.20/lib/python3.8/site-packages (from torch>=1.11.0->sentence-transformers) (11.0.2.54)\n",
      "Requirement already satisfied: nvidia-curand-cu12==10.3.2.106 in ./.pyenv/versions/3.8.20/lib/python3.8/site-packages (from torch>=1.11.0->sentence-transformers) (10.3.2.106)\n",
      "Requirement already satisfied: nvidia-cusolver-cu12==11.4.5.107 in ./.pyenv/versions/3.8.20/lib/python3.8/site-packages (from torch>=1.11.0->sentence-transformers) (11.4.5.107)\n",
      "Requirement already satisfied: nvidia-cusparse-cu12==12.1.0.106 in ./.pyenv/versions/3.8.20/lib/python3.8/site-packages (from torch>=1.11.0->sentence-transformers) (12.1.0.106)\n",
      "Requirement already satisfied: nvidia-nccl-cu12==2.20.5 in ./.pyenv/versions/3.8.20/lib/python3.8/site-packages (from torch>=1.11.0->sentence-transformers) (2.20.5)\n",
      "Requirement already satisfied: nvidia-nvtx-cu12==12.1.105 in ./.pyenv/versions/3.8.20/lib/python3.8/site-packages (from torch>=1.11.0->sentence-transformers) (12.1.105)\n",
      "Requirement already satisfied: triton==3.0.0 in ./.pyenv/versions/3.8.20/lib/python3.8/site-packages (from torch>=1.11.0->sentence-transformers) (3.0.0)\n",
      "Requirement already satisfied: nvidia-nvjitlink-cu12 in ./.pyenv/versions/3.8.20/lib/python3.8/site-packages (from nvidia-cusolver-cu12==11.4.5.107->torch>=1.11.0->sentence-transformers) (12.8.93)\n",
      "Requirement already satisfied: tokenizers<0.21,>=0.20 in ./.pyenv/versions/3.8.20/lib/python3.8/site-packages (from transformers<5.0.0,>=4.41.0->sentence-transformers) (0.20.3)\n",
      "Requirement already satisfied: safetensors>=0.4.1 in ./.pyenv/versions/3.8.20/lib/python3.8/site-packages (from transformers<5.0.0,>=4.41.0->sentence-transformers) (0.5.2)\n",
      "Requirement already satisfied: anyio in ./.pyenv/versions/3.8.20/lib/python3.8/site-packages (from httpx<1,>=0.23.0->langsmith<0.2.0,>=0.1.17->langchain) (4.5.2)\n",
      "Requirement already satisfied: httpcore==1.* in ./.pyenv/versions/3.8.20/lib/python3.8/site-packages (from httpx<1,>=0.23.0->langsmith<0.2.0,>=0.1.17->langchain) (1.0.7)\n",
      "Requirement already satisfied: h11<0.15,>=0.13 in ./.pyenv/versions/3.8.20/lib/python3.8/site-packages (from httpcore==1.*->httpx<1,>=0.23.0->langsmith<0.2.0,>=0.1.17->langchain) (0.14.0)\n",
      "Requirement already satisfied: jsonpointer>=1.9 in ./.pyenv/versions/3.8.20/lib/python3.8/site-packages (from jsonpatch<2.0,>=1.33->langchain-core<0.3.0,>=0.2.43->langchain) (3.0.0)\n",
      "Requirement already satisfied: mypy-extensions>=0.3.0 in ./.pyenv/versions/3.8.20/lib/python3.8/site-packages (from typing-inspect<1,>=0.4.0->dataclasses-json<0.7,>=0.5.7->langchain_community) (1.1.0)\n",
      "Requirement already satisfied: propcache>=0.2.0 in ./.pyenv/versions/3.8.20/lib/python3.8/site-packages (from yarl<2.0,>=1.12.0->aiohttp<4.0.0,>=3.8.3->langchain) (0.2.0)\n",
      "Requirement already satisfied: MarkupSafe>=2.0 in ./.pyenv/versions/3.8.20/lib/python3.8/site-packages (from jinja2->torch>=1.11.0->sentence-transformers) (2.1.5)\n",
      "Requirement already satisfied: mpmath<1.4,>=1.1.0 in ./.pyenv/versions/3.8.20/lib/python3.8/site-packages (from sympy->torch>=1.11.0->sentence-transformers) (1.3.0)\n",
      "Requirement already satisfied: sniffio>=1.1 in ./.pyenv/versions/3.8.20/lib/python3.8/site-packages (from anyio->httpx<1,>=0.23.0->langsmith<0.2.0,>=0.1.17->langchain) (1.3.1)\n",
      "Requirement already satisfied: exceptiongroup>=1.0.2 in ./.pyenv/versions/3.8.20/lib/python3.8/site-packages (from anyio->httpx<1,>=0.23.0->langsmith<0.2.0,>=0.1.17->langchain) (1.2.2)\n",
      "Note: you may need to restart the kernel to use updated packages.\n"
     ]
    }
   ],
   "source": [
    "%pip install langchain langchain_community scikit-learn langchain-ollama sentence-transformers tiktoken"
   ]
  },
  {
   "cell_type": "markdown",
   "metadata": {},
   "source": [
    "Main functions that I have used from LangChain in my book assistant bot:\n",
    "1. PyPDFLoader > To load the PDF file\n",
    "2. SKLearnVectorStore > A vector store that uses scikit-learn to store text embeddings.\n",
    "3. RecursiveCharacterTextSplitter > Splits documents into chunks of text.\n",
    "4. HuggingFaceEmbeddings > To generate embeddings for the text.\n",
    "5. ChatOllama > To connect to Ollama (locally runnnig models) with langchain.\n",
    "6. PromptTemplate > To connect prompt + LLM to get a repsonse.\n",
    "7. Chains > Combines:  Retriever + LLM > RetrievalQA > Ask questions on documents or PDf files(In my case PDF file)"
   ]
  },
  {
   "cell_type": "code",
   "execution_count": 98,
   "metadata": {},
   "outputs": [],
   "source": [
    "from langchain_community.vectorstores import SKLearnVectorStore\n",
    "from langchain.chains import RetrievalQA\n",
    "from langchain_community.document_loaders import PyPDFLoader\n",
    "from langchain.text_splitter import RecursiveCharacterTextSplitter\n",
    "from langchain.embeddings import HuggingFaceEmbeddings\n",
    "from langchain_ollama import ChatOllama\n",
    "from langchain.prompts import PromptTemplate\n",
    "\n",
    "# NEw imports for chat memory implementation\n",
    "from langchain.memory import ConversationBufferMemory\n",
    "from langchain.chains import ConversationalRetrievalChain"
   ]
  },
  {
   "cell_type": "markdown",
   "metadata": {},
   "source": [
    "Load and prepare documents\n",
    "Documents can be anyhing, I can load a PDF or use webpages as the source also\n",
    "\n",
    "What is does:\n",
    "You give the file path of a PDF (sample-book.pdf).\n",
    "PyPDFLoader reads and extracts the content from the PDF.\n",
    "docs_list is now a list of all the pages as text."
   ]
  },
  {
   "cell_type": "code",
   "execution_count": null,
   "metadata": {},
   "outputs": [],
   "source": [
    "# List of PDF file paths to load documents from\n",
    "pdf_paths = [\n",
    "    # \"/home/ai-ml-practice/rag-using-llm/sample-book.pdf\"\n",
    "    \"/home/ai-ml-practice/rag-using-llm/AgileProdMgt_sample.pdf\"\n",
    "    # \"/home/ai-ml-practice/rag-using-llm/wifi-sample.pdf\"\n",
    "]"
   ]
  },
  {
   "cell_type": "markdown",
   "metadata": {},
   "source": [
    "Split documents into chunks\n",
    "\n",
    "What it does:\n",
    "Big documents are broken into smaller pieces (250 characters each).\n",
    "This helps the LLM read smaller bits and answer more accurately.\n",
    "chunk_overlap=2 means it includes a few repeated words to preserve context."
   ]
  },
  {
   "cell_type": "code",
   "execution_count": 100,
   "metadata": {},
   "outputs": [],
   "source": [
    "# Load and split documents\n",
    "docs = [PyPDFLoader(pdf_path).load() for pdf_path in pdf_paths]\n",
    "docs_list = [item for sublist in docs for item in sublist]\n",
    "\n",
    "# too small chunk size(250) dint work as model was not able to\n",
    "# understand context(basic questions like who is the author dint work)\n",
    "text_splitter = RecursiveCharacterTextSplitter.from_tiktoken_encoder(\n",
    "    chunk_size=1000,\n",
    "    chunk_overlap=200,\n",
    "    separators=[\"\\n\\n\", \"\\n\", \"(?<=\\. )\", \" \", \"\"],\n",
    "    add_start_index=True  # Helps track document position\n",
    ")\n",
    "doc_splits = text_splitter.split_documents(docs_list)"
   ]
  },
  {
   "cell_type": "markdown",
   "metadata": {},
   "source": [
    "Initialize embeddings\n",
    "\n",
    "What it does:\n",
    "You extract just the text from each chunk.\n",
    "Then store them as vectors in a small database (SKLearnVectorStore).\n",
    "retriever will now fetch the top 4 most similar chunks for a given query."
   ]
  },
  {
   "cell_type": "code",
   "execution_count": 101,
   "metadata": {},
   "outputs": [
    {
     "name": "stdout",
     "output_type": "stream",
     "text": [
      "client=SentenceTransformer(\n",
      "  (0): Transformer({'max_seq_length': 256, 'do_lower_case': False}) with Transformer model: BertModel \n",
      "  (1): Pooling({'word_embedding_dimension': 384, 'pooling_mode_cls_token': False, 'pooling_mode_mean_tokens': True, 'pooling_mode_max_tokens': False, 'pooling_mode_mean_sqrt_len_tokens': False, 'pooling_mode_weightedmean_tokens': False, 'pooling_mode_lasttoken': False, 'include_prompt': True})\n",
      "  (2): Normalize()\n",
      ") model_name='all-MiniLM-L6-v2' cache_folder=None model_kwargs={} encode_kwargs={} multi_process=False show_progress=False\n"
     ]
    }
   ],
   "source": [
    "# Initialize embeddings\n",
    "embeddings = HuggingFaceEmbeddings(model_name=\"all-MiniLM-L6-v2\")\n",
    "print(embeddings)"
   ]
  },
  {
   "cell_type": "markdown",
   "metadata": {},
   "source": [
    "Create a vector store"
   ]
  },
  {
   "cell_type": "code",
   "execution_count": 102,
   "metadata": {},
   "outputs": [],
   "source": [
    "# Create vector store\n",
    "texts = [doc.page_content for doc in doc_splits]\n",
    "vectorstore = SKLearnVectorStore.from_texts(texts, embedding=embeddings)\n",
    "retriever = vectorstore.as_retriever(k=2)\n",
    "# retriever = vectorstore.as_retriever(search_kwargs={\"k\": 1})"
   ]
  },
  {
   "cell_type": "markdown",
   "metadata": {},
   "source": [
    "Initialize LLM"
   ]
  },
  {
   "cell_type": "code",
   "execution_count": 103,
   "metadata": {},
   "outputs": [],
   "source": [
    "# llm = ChatOllama(model=\"llama3.1:8b\")\n",
    "llm = ChatOllama(model=\"deepseek-r1:14b\")"
   ]
  },
  {
   "cell_type": "markdown",
   "metadata": {},
   "source": [
    "NEW TASK: ADD MEMORY TO THE BOOK ASISTANT"
   ]
  },
  {
   "cell_type": "markdown",
   "metadata": {},
   "source": [
    "For memory I have found two functions > ConversationChain and Memory\n",
    "\n",
    "Memory has three types:\n",
    "ConversationBufferMemory > This remembers everything\n",
    "\n",
    "ConversationSummaryMemory > This remembers summary of conversation\n",
    "\n",
    "VectorStoreMemory > This remembers conversation in vector store\n"
   ]
  },
  {
   "cell_type": "code",
   "execution_count": 104,
   "metadata": {},
   "outputs": [],
   "source": [
    "memory = ConversationBufferMemory(\n",
    "    memory_key=\"chat_history\",\n",
    "    return_messages=True,\n",
    "    # max_token_limit=2000,  # Trims oldest messages if exceeded (NEW)\n",
    "    input_key = \"question\",\n",
    "    output_key = \"answer\"\n",
    ")"
   ]
  },
  {
   "cell_type": "markdown",
   "metadata": {},
   "source": [
    "Define prompt template"
   ]
  },
  {
   "cell_type": "markdown",
   "metadata": {},
   "source": [
    "NEW ADDITION IN THE PROMPT > Chat Hisory: {chat_history}"
   ]
  },
  {
   "cell_type": "code",
   "execution_count": 105,
   "metadata": {},
   "outputs": [],
   "source": [
    "# prompt_template = \"\"\"You are an assistant for question-answering tasks.\n",
    "# Use the following document which is a book to answer the question.\n",
    "# Given the following conversation and context, answer the user's question.\n",
    "# ONLY output the following format, nothing else:\n",
    "\n",
    "# Question: <repeat the latest user question here>\n",
    "# Answer: <your answer here>\n",
    "# If you don't know the answer, just say that you don't know.\n",
    "# Please answer in simple and easy to understand language.\n",
    "# Use two sentences maximum and keep the answer concise:\n",
    "# Question: {question}\n",
    "# Documents: {context}\n",
    "# Chat history: {chat_history}\n",
    "# Answer:\"\"\"\n",
    "# prompt = PromptTemplate(\n",
    "#     template=prompt_template,\n",
    "#     input_variables=[\"context\", \"question\", \"chat_history\"]\n",
    "# )"
   ]
  },
  {
   "cell_type": "code",
   "execution_count": 106,
   "metadata": {},
   "outputs": [],
   "source": [
    "# prompt_template = \"\"\"You are a helpful assistant for question-answering.\n",
    "# Given the following context and conversation history, answer the user's question.\n",
    "\n",
    "# IMPORTANT:\n",
    "# - Only output the answer to the question below.\n",
    "# - Do NOT repeat the question, context, or chat history.\n",
    "# - Do NOT include any explanations, formatting, or extra text.\n",
    "# - If you do not know the answer, say: \"I don't know.\"\n",
    "\n",
    "# Context:\n",
    "# {context}\n",
    "\n",
    "# Chat history:\n",
    "# {chat_history}\n",
    "\n",
    "# Question:\n",
    "# {question}\n",
    "\n",
    "# Answer:\n",
    "# \"\"\"\n",
    "# prompt = PromptTemplate(\n",
    "#     template=prompt_template,\n",
    "#     input_variables=[\"context\", \"question\", \"chat_history\"]\n",
    "# )"
   ]
  },
  {
   "cell_type": "code",
   "execution_count": 107,
   "metadata": {},
   "outputs": [],
   "source": [
    "# from langchain.prompts import ChatPromptTemplate, SystemMessagePromptTemplate\n",
    "\n",
    "# system_prompt = \"\"\"You are a book expert assistant. Use these rules:\n",
    "# 1. Answer ONLY from the provided context\n",
    "# 2. For memory questions, use the exact chat history below\n",
    "# 3. If unsure, say \"I don't know\"\n",
    "\n",
    "# Context: {context}\n",
    "# Chat History: {chat_history}\"\"\"\n",
    "\n",
    "# prompt = ChatPromptTemplate.from_messages([\n",
    "#     SystemMessagePromptTemplate.from_template(system_prompt),\n",
    "#     (\"human\", \"{question}\"),\n",
    "# ])"
   ]
  },
  {
   "cell_type": "markdown",
   "metadata": {},
   "source": [
    "NEW PROMPT for aglie scrum pdf"
   ]
  },
  {
   "cell_type": "code",
   "execution_count": 108,
   "metadata": {},
   "outputs": [],
   "source": [
    "# from langchain.prompts import ChatPromptTemplate, SystemMessagePromptTemplate\n",
    "\n",
    "# system_prompt = \"\"\"You are a book expert assistant. Use these rules:\n",
    "# 1. Answer ONLY from the provided context\n",
    "# 2. For memory questions, use the exact chat history below\n",
    "# 3. If unsure, say \"I don't know\"\n",
    "\n",
    "# Context: {context}\n",
    "# Chat History: {chat_history}\"\"\"\n",
    "\n",
    "# prompt = ChatPromptTemplate.from_messages([\n",
    "#     SystemMessagePromptTemplate.from_template(system_prompt),\n",
    "\n",
    "#     # Few-shot examples\n",
    "#     (\"human\", \"What is the main responsibility of a product owner in Scrum?\"),\n",
    "#     (\"ai\", \"The product owner is responsible for maximizing product value. This includes managing the product backlog, communicating the vision, collaborating with the Scrum Team, and ensuring alignment with customer needs.\"),\n",
    "\n",
    "#     (\"human\", \"How is the product owner role different from a traditional product manager?\"),\n",
    "#     (\"ai\", \"In Scrum, the product owner is a single, empowered individual who combines responsibilities that are often spread across multiple roles in traditional setups. They work closely with the development team and are accountable for the product's success.\"),\n",
    "\n",
    "#     # Placeholder for dynamic user input\n",
    "#     (\"human\", \"{question}\"),\n",
    "# ])\n"
   ]
  },
  {
   "cell_type": "code",
   "execution_count": 109,
   "metadata": {},
   "outputs": [],
   "source": [
    "from langchain.prompts import ChatPromptTemplate, SystemMessagePromptTemplate\n",
    "\n",
    "system_prompt = \"\"\"You are an expert assistant trained on the book *\"Agile Product Management with Scrum\"* by Roman Pichler.\n",
    "Answer user questions accurately and concisely using the knowledge from this book.\n",
    "If a question is outside the book’s scope, politely respond that it's not covered in the source material.\n",
    "Use these rules:\n",
    "1. Answer ONLY from the provided context\n",
    "2. For memory questions, use the exact chat history below\n",
    "3. If unsure, say \"I don't know\"\n",
    "\n",
    "Here are some example questions and answers:\n",
    "\n",
    "Q: What is the main responsibility of a product owner in Scrum?\n",
    "A: The product owner is responsible for maximizing product value. This includes managing the product backlog, communicating the vision, collaborating with the Scrum Team, and ensuring alignment with customer needs.\n",
    "\n",
    "Q: How is the product owner role different from a traditional product manager?\n",
    "A: In Scrum, the product owner is a single, empowered individual who combines responsibilities that are often spread across multiple roles in traditional setups. They work closely with the development team and are accountable for the product's success.\n",
    "\n",
    "Context: {context}\n",
    "Chat History: {chat_history}\"\"\"\n",
    "\n",
    "prompt = ChatPromptTemplate.from_messages([\n",
    "    SystemMessagePromptTemplate.from_template(system_prompt),\n",
    "    (\"human\", \"{question}\"),\n",
    "])"
   ]
  },
  {
   "cell_type": "markdown",
   "metadata": {},
   "source": [
    "Create retrieval chain\n",
    "\n",
    "What it does:\n",
    "This creates the full RAG pipeline:\n",
    "It takes a user query\n",
    "Uses the retriever to grab relevant document chunks\n",
    "Passes both query + chunks to the LLM using your prompt\n",
    "return_source_documents=True helps if you want to show where the answer came from."
   ]
  },
  {
   "cell_type": "code",
   "execution_count": 110,
   "metadata": {},
   "outputs": [],
   "source": [
    "# Create the conversational chain  > this chain is for conversational memory, so  replacing RetrievalQA with ConversationalRetrievalChain\n",
    "qa_chain = ConversationalRetrievalChain.from_llm(\n",
    "    llm=llm,\n",
    "    retriever=retriever,\n",
    "    memory=memory,\n",
    "    chain_type=\"stuff\",\n",
    "    combine_docs_chain_kwargs={\"prompt\": prompt},    # same prompt from above\n",
    "    # verbose=True,  # debugging here\n",
    "    rephrase_question=True,  # Helps with follow-up questions\n",
    "    # return_source_documents=True,  # For debugging\n",
    "    # get_chat_history=lambda h: \"\\n\".join([f\"{msg.type}: {msg.content}\" for msg in h])\n",
    ")"
   ]
  },
  {
   "cell_type": "markdown",
   "metadata": {},
   "source": [
    "Define RAG application class \n",
    "\n",
    "What it does:\n",
    "A simple class to wrap your chatbot logic\n",
    "It runs the RAG chain when you call run()\n",
    " "
   ]
  },
  {
   "cell_type": "code",
   "execution_count": 111,
   "metadata": {},
   "outputs": [],
   "source": [
    "# chat_history = []\n",
    "class RAGApplication:\n",
    "    def __init__(self, qa_chain):\n",
    "        self.qa_chain = qa_chain\n",
    "\n",
    "    def run(self, question):\n",
    "        result = self.qa_chain({\"question\": question})\n",
    "        return result[\"answer\"]"
   ]
  },
  {
   "cell_type": "markdown",
   "metadata": {},
   "source": [
    "Initialize and run\n",
    "\n",
    "What it does:\n",
    "Initializes the bot with the RAG chain\n",
    "Sends the question to the chain\n",
    "Prints out the LLM’s answer based on the retrieved chunks"
   ]
  },
  {
   "cell_type": "code",
   "execution_count": 112,
   "metadata": {},
   "outputs": [
    {
     "name": "stdout",
     "output_type": "stream",
     "text": [
      "<think>\n",
      "Okay, so I'm trying to figure out how the product owner role in Scrum differs from a traditional product manager. I remember reading that Roman Pichler's book \"Agile Product Management with Scrum\" covers this topic, so I'll need to refer back to that.\n",
      "\n",
      "First, from what I recall, the product owner is responsible for maximizing product value. They manage the product backlog and work closely with the Scrum team. The key difference seems to be that in traditional setups, responsibilities are often split between multiple roles, whereas in Scrum, the product owner combines these into one role. \n",
      "\n",
      "Looking at the context provided, it mentions that the product owner is a single, empowered individual. They handle tasks like creating the product vision, grooming the backlog, planning releases, involving stakeholders, managing budgets, and preparing launches. This seems more comprehensive than a traditional product manager's role, which might be more focused on either strategic or tactical aspects.\n",
      "\n",
      "In traditional setups, there can be distinctions between product marketers (who are outward-facing) and technical product managers (inward-facing). The product owner in Scrum unites both these roles, handling everything from market understanding to detailed feature descriptions. This integration avoids handoffs and delays that can occur when responsibilities are split.\n",
      "\n",
      "Additionally, the context notes that project management tasks are distributed across the Scrum team rather than handled by a separate project manager. So, while a traditional product manager might work alongside a project manager, the Scrum product owner takes on some of those project-related duties themselves or with team support.\n",
      "\n",
      "I should make sure not to include anything outside what's in the book. The user is asking specifically about how it's different from traditional roles, so I'll focus on that comparison without introducing other concepts unless they're directly related.\n",
      "</think>\n",
      "\n",
      "The product owner role in Scrum differs from a traditional product manager by being a single, empowered individual who combines responsibilities typically split across multiple roles. While traditional setups may separate strategic and tactical aspects between product marketers (outward-facing) and technical product managers (inward-facing), the Scrum product owner unites these roles. They handle everything from market understanding to detailed features, manage budgets, and plan releases, avoiding handoffs and delays. Additionally, in Scrum, project management tasks are distributed among the team, reducing reliance on a separate project manager. This integration ensures end-to-end authority and accountability, enhancing efficiency and communication within the team.\n",
      "<think>\n",
      "Yes, in Scrum, the product owner is responsible for handling stakeholder communication directly, ensuring their interests are represented and their feedback is integrated throughout the process.\n",
      "</think>\n",
      "\n",
      "Yes, in Scrum, the product owner is responsible for handling stakeholder communication directly. They ensure that stakeholders' interests are represented and their feedback is integrated throughout the process, distinguishing this role from traditional setups where responsibilities might be divided among multiple roles.\n"
     ]
    }
   ],
   "source": [
    "rag_application = RAGApplication(qa_chain)\n",
    "\n",
    "# # conversation\n",
    "# questions = [\n",
    "#     # \"What is the document about?\",\n",
    "#     # \"What is the name of the author?\",\n",
    "#     # \"Can you summarise the document?\"\n",
    "#     \"What is the product owner responsible for in Scrum?\",\n",
    "#     \"How is the product owner different from a traditional product manager?\",\n",
    "#     \"So does that mean the product owner also handles stakeholder communication directly?\",\n",
    "#     \"What is the role of the product owner in Scrum?\",\n",
    "# ]\n",
    "\n",
    "# for question in questions:\n",
    "#     answer = rag_application.run(question)\n",
    "#     print(f\"Question: {question}\")\n",
    "#     print(f\"Answer: {answer}\\n\")\n",
    "#     # memory.clear()\n",
    "\n",
    "bot = RAGApplication(qa_chain)\n",
    "\n",
    "print(bot.run(\"How is the product owner different from a traditional product manager?\"))\n",
    "print(bot.run(\"So does that mean they also handle stakeholder communication directly?\"))\n"
   ]
  },
  {
   "cell_type": "markdown",
   "metadata": {},
   "source": [
    "Good results\n",
    "\n",
    "accuracy good\n",
    "\n",
    "retrieval from book good \n",
    "\n",
    "follow up which was asked in question 2 GOOD > confirms chat memory"
   ]
  },
  {
   "cell_type": "markdown",
   "metadata": {},
   "source": [
    "Answers :\n",
    "\n",
    "How is the product owner different from a traditional product manager?\n",
    "\n",
    "The product owner role in Scrum differs from a traditional product manager by being a single, empowered individual who combines responsibilities typically split across multiple roles. While traditional setups may separate strategic and tactical aspects between product marketers (outward-facing) and technical product managers (inward-facing), the Scrum product owner unites these roles. They handle everything from market understanding to detailed features, manage budgets, and plan releases, avoiding handoffs and delays. Additionally, in Scrum, project management tasks are distributed among the team, reducing reliance on a separate project manager. This integration ensures end-to-end authority and accountability, enhancing efficiency and communication within the team.\n",
    "\n",
    "\"So does that mean they also handle stakeholder communication directly?\"\n",
    "\n",
    "Yes, in Scrum, the product owner is responsible for handling stakeholder communication directly. They ensure that stakeholders' interests are represented and their feedback is integrated throughout the process, distinguishing this role from traditional setups where responsibilities might be divided among multiple roles."
   ]
  },
  {
   "cell_type": "markdown",
   "metadata": {},
   "source": [
    "Answers: chat memory max tokens were 2000\n",
    "\n",
    "What is the product owner responsible for in Scrum?\n",
    "The Product Owner (PO) in Scrum is responsible for several key areas:\n",
    "\n",
    "1. **Product Backlog Management**: The PO manages the Product Backlog to ensure it aligns with business goals and stakeholder needs.\n",
    "\n",
    "2. **Value Maximization**: They ensure that the work done by the team delivers maximum value, focusing on benefits realization.\n",
    "\n",
    "3. **Product Vision and Strategy**: The PO defines and communicates the product vision and strategy, guiding the development direction.\n",
    "\n",
    "4. **Stakeholder Engagement**: They involve customers, users, and other stakeholders to gather requirements and validate solutions.\n",
    "\n",
    "5. **Release Planning**: The PO collaborates with the Scrum Team to plan releases, ensuring they meet business objectives.\n",
    "\n",
    "6. **Collaboration with the Scrum Team**: While the ScrumMaster supports in grooming the backlog, the PO works closely with the team to prioritize and clarify items.\n",
    "\n",
    "7. **Multifaceted Role**: Unlike traditional roles, the PO combines authority and responsibility for product success across its lifecycle.\n",
    "\n",
    "\n",
    "How is the product owner different from a traditional product manager?\n",
    "The product owner in Scrum differs significantly from a traditional product manager by combining various roles into one person. They are responsible for creating the product vision, managing the Product Backlog, collaborating closely with the Scrum team, and ensuring value realization through iterative delivery. Unlike traditional PMs who might delegate tasks to others, the PO works directly within the Agile framework to align product development efforts with business goals.\n",
    "The product owner role is multifaceted, encompassing responsibilities traditionally held by separate roles such as product management or project management. This integration allows for a more streamlined approach where the PO leads the effort to create a winning product, ensuring alignment and collaboration across all stakeholders.\n",
    "\n",
    "So does that mean the product owner also handles stakeholder communication directly?\n",
    "No, the Product Owner is not responsible for assigning tasks to team members. That responsibility lies with the self-organizing development team itself.\n",
    "\n",
    "What is the role of the product owner in Scrum?\n",
    "The Product Owner (PO) in Scrum differs from a traditional product manager by uniting several roles under one individual. The PO is responsible for managing the Product Backlog, creating the product vision, planning releases, involving stakeholders, collaborating with the Scrum Team, and ensuring alignment with business goals.In contrast to traditional setups where responsibilities might be spread across multiple roles, the PO's multifaceted role includes leading the development effort, ensuring value realization through iterative delivery, and maintaining close collaboration with the team. This integration within the Agile framework allows for a more streamlined approach, emphasizing continuous collaboration and alignment with business objectives.\n",
    "\n",
    "\n",
    "Final Verdict:\n",
    "accuracy, retrieval good \n",
    "Hallunicated when testing chat memory , was asked about stakeholder communication answered assisnging tasks to teammates."
   ]
  }
 ],
 "metadata": {
  "kernelspec": {
   "display_name": "Python 3 (ipykernel)",
   "language": "python",
   "name": "python3"
  },
  "language_info": {
   "codemirror_mode": {
    "name": "ipython",
    "version": 3
   },
   "file_extension": ".py",
   "mimetype": "text/x-python",
   "name": "python",
   "nbconvert_exporter": "python",
   "pygments_lexer": "ipython3",
   "version": "3.8.20"
  }
 },
 "nbformat": 4,
 "nbformat_minor": 2
}
