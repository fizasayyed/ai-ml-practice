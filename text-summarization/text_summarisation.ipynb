{
 "cells": [
  {
   "cell_type": "code",
   "execution_count": 1,
   "metadata": {},
   "outputs": [
    {
     "name": "stdout",
     "output_type": "stream",
     "text": [
      "Note: you may need to restart the kernel to use updated packages.\n"
     ]
    }
   ],
   "source": [
    "# Install Hugging Face Transformers and Torch\n",
    "%pip install transformers torch --quiet"
   ]
  },
  {
   "cell_type": "code",
   "execution_count": null,
   "metadata": {},
   "outputs": [],
   "source": [
    "def HFACEAuth():\n",
    "    return \"add-your-token-here\"   #your huggingface account token"
   ]
  },
  {
   "cell_type": "code",
   "execution_count": null,
   "metadata": {},
   "outputs": [
    {
     "name": "stderr",
     "output_type": "stream",
     "text": [
      "/home/sakhaglobal/.pyenv/versions/3.8.20/lib/python3.8/site-packages/transformers/models/auto/tokenization_auto.py:809: FutureWarning: The `use_auth_token` argument is deprecated and will be removed in v5 of Transformers. Please use `token` instead.\n",
      "  warnings.warn(\n",
      "/home/sakhaglobal/.pyenv/versions/3.8.20/lib/python3.8/site-packages/transformers/models/auto/auto_factory.py:471: FutureWarning: The `use_auth_token` argument is deprecated and will be removed in v5 of Transformers. Please use `token` instead.\n",
      "  warnings.warn(\n"
     ]
    },
    {
     "data": {
      "application/vnd.jupyter.widget-view+json": {
       "model_id": "c2164bb7de1f4c4986c85950ccd40388",
       "version_major": 2,
       "version_minor": 0
      },
      "text/plain": [
       "Downloading shards:   0%|          | 0/2 [00:00<?, ?it/s]"
      ]
     },
     "metadata": {},
     "output_type": "display_data"
    },
    {
     "data": {
      "application/vnd.jupyter.widget-view+json": {
       "model_id": "b349ebe30f3f4cf2b785f3d01a5dd274",
       "version_major": 2,
       "version_minor": 0
      },
      "text/plain": [
       "model-00001-of-00002.safetensors:  19%|#8        | 1.87G/9.98G [00:00<?, ?B/s]"
      ]
     },
     "metadata": {},
     "output_type": "display_data"
    },
    {
     "name": "stderr",
     "output_type": "stream",
     "text": [
      "Error while downloading from https://cdn-lfs.hf.co/repos/34/fa/34fa0aabe98acb3ff4f32374017550dedfae6db05863872cb0cdda960f59a928/66dec18c9f1705b9387d62f8485f4e7d871ca388718786737ed3c72dbfaac9fb?response-content-disposition=inline%3B+filename*%3DUTF-8%27%27model-00001-of-00002.safetensors%3B+filename%3D%22model-00001-of-00002.safetensors%22%3B&Expires=1746522834&Policy=eyJTdGF0ZW1lbnQiOlt7IkNvbmRpdGlvbiI6eyJEYXRlTGVzc1RoYW4iOnsiQVdTOkVwb2NoVGltZSI6MTc0NjUyMjgzNH19LCJSZXNvdXJjZSI6Imh0dHBzOi8vY2RuLWxmcy5oZi5jby9yZXBvcy8zNC9mYS8zNGZhMGFhYmU5OGFjYjNmZjRmMzIzNzQwMTc1NTBkZWRmYWU2ZGIwNTg2Mzg3MmNiMGNkZGE5NjBmNTlhOTI4LzY2ZGVjMThjOWYxNzA1YjkzODdkNjJmODQ4NWY0ZTdkODcxY2EzODg3MTg3ODY3MzdlZDNjNzJkYmZhYWM5ZmI%7EcmVzcG9uc2UtY29udGVudC1kaXNwb3NpdGlvbj0qIn1dfQ__&Signature=F3TMPgKdnzITp5p6mKUxEhJbFf%7EbksUPRSqxkPZVneW%7EEr%7EMuXilxZAN1P-LHRDTAxRPCBmuTS4x4plCtXN1DqqJNxz3%7ES3ChRv%7Ewm-GzKSwSe9kf8dOHRi4uIwdsiPZJdvAbq%7E-IyfLS%7EqHMD%7EVQZC2Qm9br7O5CvUXaNf3iPHFwRzs2yE1T7FDao7zCsT7sEeejBx8xhzdDu-rWBT7ZCJKXRzfkki6ixSzLAn8n3emC5PkloBhKkbCOD0XwkETchyBy90sSEvYcdpHTj3-F%7ERWhIE-XbvHnrDtu1K7D4Fp783g9MOZIZNaeLl9hQKgkATTYYfVS2xftE1zxtLNXg__&Key-Pair-Id=K3RPWS32NSSJCE: HTTPSConnectionPool(host='cdn-lfs.hf.co', port=443): Read timed out.\n",
      "Trying to resume download...\n"
     ]
    },
    {
     "data": {
      "application/vnd.jupyter.widget-view+json": {
       "model_id": "286c092196554c1287fad20cef4d0b99",
       "version_major": 2,
       "version_minor": 0
      },
      "text/plain": [
       "model-00001-of-00002.safetensors:  87%|########6 | 8.66G/9.98G [00:00<?, ?B/s]"
      ]
     },
     "metadata": {},
     "output_type": "display_data"
    },
    {
     "name": "stderr",
     "output_type": "stream",
     "text": [
      "Error while downloading from https://cdn-lfs.hf.co/repos/34/fa/34fa0aabe98acb3ff4f32374017550dedfae6db05863872cb0cdda960f59a928/66dec18c9f1705b9387d62f8485f4e7d871ca388718786737ed3c72dbfaac9fb?response-content-disposition=inline%3B+filename*%3DUTF-8%27%27model-00001-of-00002.safetensors%3B+filename%3D%22model-00001-of-00002.safetensors%22%3B&Expires=1746522834&Policy=eyJTdGF0ZW1lbnQiOlt7IkNvbmRpdGlvbiI6eyJEYXRlTGVzc1RoYW4iOnsiQVdTOkVwb2NoVGltZSI6MTc0NjUyMjgzNH19LCJSZXNvdXJjZSI6Imh0dHBzOi8vY2RuLWxmcy5oZi5jby9yZXBvcy8zNC9mYS8zNGZhMGFhYmU5OGFjYjNmZjRmMzIzNzQwMTc1NTBkZWRmYWU2ZGIwNTg2Mzg3MmNiMGNkZGE5NjBmNTlhOTI4LzY2ZGVjMThjOWYxNzA1YjkzODdkNjJmODQ4NWY0ZTdkODcxY2EzODg3MTg3ODY3MzdlZDNjNzJkYmZhYWM5ZmI%7EcmVzcG9uc2UtY29udGVudC1kaXNwb3NpdGlvbj0qIn1dfQ__&Signature=F3TMPgKdnzITp5p6mKUxEhJbFf%7EbksUPRSqxkPZVneW%7EEr%7EMuXilxZAN1P-LHRDTAxRPCBmuTS4x4plCtXN1DqqJNxz3%7ES3ChRv%7Ewm-GzKSwSe9kf8dOHRi4uIwdsiPZJdvAbq%7E-IyfLS%7EqHMD%7EVQZC2Qm9br7O5CvUXaNf3iPHFwRzs2yE1T7FDao7zCsT7sEeejBx8xhzdDu-rWBT7ZCJKXRzfkki6ixSzLAn8n3emC5PkloBhKkbCOD0XwkETchyBy90sSEvYcdpHTj3-F%7ERWhIE-XbvHnrDtu1K7D4Fp783g9MOZIZNaeLl9hQKgkATTYYfVS2xftE1zxtLNXg__&Key-Pair-Id=K3RPWS32NSSJCE: HTTPSConnectionPool(host='cdn-lfs.hf.co', port=443): Read timed out.\n",
      "Trying to resume download...\n"
     ]
    },
    {
     "data": {
      "application/vnd.jupyter.widget-view+json": {
       "model_id": "4561235817c24592b6a64dca05bb7784",
       "version_major": 2,
       "version_minor": 0
      },
      "text/plain": [
       "model-00001-of-00002.safetensors:  88%|########8 | 8.79G/9.98G [00:00<?, ?B/s]"
      ]
     },
     "metadata": {},
     "output_type": "display_data"
    },
    {
     "data": {
      "application/vnd.jupyter.widget-view+json": {
       "model_id": "c546aa03761c4ab2a9cdb9e4e791366d",
       "version_major": 2,
       "version_minor": 0
      },
      "text/plain": [
       "model-00002-of-00002.safetensors:   0%|          | 0.00/3.50G [00:00<?, ?B/s]"
      ]
     },
     "metadata": {},
     "output_type": "display_data"
    },
    {
     "data": {
      "application/vnd.jupyter.widget-view+json": {
       "model_id": "c1b857a390d248988d9108af84a9e2e1",
       "version_major": 2,
       "version_minor": 0
      },
      "text/plain": [
       "Loading checkpoint shards:   0%|          | 0/2 [00:00<?, ?it/s]"
      ]
     },
     "metadata": {},
     "output_type": "display_data"
    },
    {
     "data": {
      "application/vnd.jupyter.widget-view+json": {
       "model_id": "c336048e7cf04b2f8227f733f22ef536",
       "version_major": 2,
       "version_minor": 0
      },
      "text/plain": [
       "generation_config.json:   0%|          | 0.00/188 [00:00<?, ?B/s]"
      ]
     },
     "metadata": {},
     "output_type": "display_data"
    },
    {
     "name": "stderr",
     "output_type": "stream",
     "text": [
      "/home/sakhaglobal/.pyenv/versions/3.8.20/lib/python3.8/site-packages/torch/cuda/__init__.py:128: UserWarning: CUDA initialization: CUDA unknown error - this may be due to an incorrectly set up environment, e.g. changing env variable CUDA_VISIBLE_DEVICES after program start. Setting the available devices to be zero. (Triggered internally at ../c10/cuda/CUDAFunctions.cpp:108.)\n",
      "  return torch._C._cuda_getDeviceCount() > 0\n"
     ]
    }
   ],
   "source": [
    "from transformers import AutoModelForCausalLM, AutoTokenizer, pipeline\n",
    "\n",
    "token = HFACEAuth()\n",
    "# Using Llama-2-7b-chat-hf as an example\n",
    "model_name = \"meta-llama/Llama-2-7b-chat-hf\"\n",
    "\n",
    "tokenizer = AutoTokenizer.from_pretrained(model_name ,use_auth_token=token)\n",
    "# tokenizer = AutoTokenizer.from_pretrained(model_name)\n",
    "model = AutoModelForCausalLM.from_pretrained(model_name, use_auth_token=token)\n",
    "\n",
    "\n",
    "# Create a text-generation pipeline\n",
    "generator = pipeline(\"text-generation\", model=model, tokenizer=tokenizer)"
   ]
  },
  {
   "cell_type": "code",
   "execution_count": null,
   "metadata": {},
   "outputs": [],
   "source": [
    "text = \"\"\"\n",
    "The rapid advancement of artificial intelligence (AI) has transformed various industries, from healthcare and finance to transportation and entertainment. I\n",
    "n healthcare, AI-powered systems assist doctors in diagnosing diseases more accurately and at earlier stages.\n",
    "In finance, algorithms analyze large datasets to detect fraud and predict market trends.\n",
    "Self-driving cars, powered by sophisticated AI models, are revolutionizing the transportation sector by improving safety and efficiency.\n",
    "Meanwhile, AI-generated content is becoming increasingly prevalent in entertainment, creating personalized recommendations and even producing music and art.\n",
    "As AI continues to evolve, it is expected to bring about even more profound changes, raising important questions about ethics, employment, and the future of human-AI collaboration.\n",
    "\"\"\"\n",
    "\n",
    "prompt = f\"Summarize the following text:\\n\\n{text}\\n\\nSummary:\""
   ]
  },
  {
   "cell_type": "code",
   "execution_count": null,
   "metadata": {},
   "outputs": [],
   "source": [
    "output = generator(\n",
    "    prompt,\n",
    "    max_length=256,\n",
    "    temperature=0.7,\n",
    "    top_p=0.9,\n",
    "    do_sample=True,\n",
    "    num_return_sequences=1\n",
    ")\n",
    "\n",
    "print(output[0]['generated_text'][len(prompt):].strip())"
   ]
  }
 ],
 "metadata": {
  "kernelspec": {
   "display_name": "Python 3 (ipykernel)",
   "language": "python",
   "name": "python3"
  },
  "language_info": {
   "codemirror_mode": {
    "name": "ipython",
    "version": 3
   },
   "file_extension": ".py",
   "mimetype": "text/x-python",
   "name": "python",
   "nbconvert_exporter": "python",
   "pygments_lexer": "ipython3",
   "version": "3.8.20"
  }
 },
 "nbformat": 4,
 "nbformat_minor": 2
}
