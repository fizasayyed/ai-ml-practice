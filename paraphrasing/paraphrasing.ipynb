{
 "cells": [
  {
   "cell_type": "code",
   "execution_count": null,
   "metadata": {},
   "outputs": [],
   "source": [
    "# Paraphrasing with DeepSeek-R1:14B via Ollama\n",
    "\n",
    "import requests\n",
    "import json"
   ]
  },
  {
   "cell_type": "code",
   "execution_count": null,
   "metadata": {},
   "outputs": [],
   "source": [
    "\n",
    "def paraphrase_with_ollama(prompt_text, model='deepseek-r1:14b'):\n",
    "    url = 'http://localhost:11434/api/generate'\n",
    "    headers = {'Content-Type': 'application/json'}\n",
    "\n",
    "    payload = {\n",
    "        \"model\": model,\n",
    "        \"prompt\": f\"Paraphrase the following sentence:\\n\\n\\\"{prompt_text}\\\"\\n\\nMake sure the meaning stays the same.\",\n",
    "        \"stream\": False\n",
    "    }\n",
    "\n",
    "    try:\n",
    "        response = requests.post(url, headers=headers, data=json.dumps(payload))\n",
    "        result = response.json()\n",
    "        return result.get('response', 'No response found.')\n",
    "    except Exception as e:\n",
    "        return f\"Error: {str(e)}\""
   ]
  },
  {
   "cell_type": "code",
   "execution_count": null,
   "metadata": {},
   "outputs": [],
   "source": [
    "\n",
    "# Example usage\n",
    "input_sentence = \"The weather today is perfect for a walk in the park.\"\n",
    "paraphrased_text = paraphrase_with_ollama(input_sentence)\n",
    "\n",
    "print(\"Original Sentence:\")\n",
    "print(input_sentence)\n",
    "print(\"\\nParaphrased Sentence:\")\n",
    "print(paraphrased_text)\n"
   ]
  }
 ],
 "metadata": {
  "language_info": {
   "name": "python"
  }
 },
 "nbformat": 4,
 "nbformat_minor": 2
}
