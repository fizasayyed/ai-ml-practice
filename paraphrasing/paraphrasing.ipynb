{
 "cells": [
  {
   "cell_type": "code",
   "execution_count": 30,
   "metadata": {},
   "outputs": [],
   "source": [
    "# 1. Import libraries\n",
    "import requests\n",
    "import json"
   ]
  },
  {
   "cell_type": "code",
   "execution_count": 33,
   "metadata": {},
   "outputs": [],
   "source": [
    "# Function to paraphrase text using LLM\n",
    "def paraphrase_with_ollama(prompt_text, model='deepseek-r1:14b'):\n",
    "    url = 'http://localhost:11434/api/generate'\n",
    "    headers = {'Content-Type': 'application/json'}\n",
    "\n",
    "    # For the prompt, I will be trying:\n",
    "    # 1. Trying style controlled paraphrasing (Ex: Try genz slang)\n",
    "    # 2. Multi phrase paraphrasing (Ex: Try 3 different paraphrases)\n",
    "    # 3. Noise aware or error tolerant paraphrasing (Ex: Try removing typos grammar etc)\n",
    "    payload = {\n",
    "        \"model\": model,\n",
    "        \"prompt\": f\"\"\"\n",
    "        Paraphrase the following sentence:\n",
    "\n",
    "        \\\"{prompt_text}\\\"\n",
    "\n",
    "        Make sure the meaning stays the same.\n",
    "        Adjust your response to be Genz slang.\n",
    "        Make sure the response is a single sentence and maximum 15 words.\n",
    "        Try to remove any typos or grammar errors.\n",
    "        \"\"\",\n",
    "        \"stream\": False\n",
    "    }\n",
    "\n",
    "    try:\n",
    "        response = requests.post(url, headers=headers, data=json.dumps(payload))\n",
    "        result = response.json()\n",
    "        return result.get('response', 'No response found.')\n",
    "    except Exception as e:\n",
    "        return f\"Error: {str(e)}\""
   ]
  },
  {
   "cell_type": "code",
   "execution_count": 34,
   "metadata": {},
   "outputs": [
    {
     "name": "stdout",
     "output_type": "stream",
     "text": [
      "Original Sentence:\n",
      "Why do I have to attend this call. The information they are going to provide is pretty much what I already know. I can either ask them to provide me with the information or I can just skip this call. I dont think I will get anything new from this call.\n",
      "\n",
      "Paraphrased Sentence:\n",
      "<think>\n",
      "Alright, let me try to figure out how to approach this user's query. So, they want me to paraphrase a given sentence into Genz slang, keeping it under 15 words as a single sentence. The original sentence is about someone questioning why they have to attend a call when the info is already known.\n",
      "\n",
      "First, I need to understand what Genz slang entails. From what I know, Gen Z uses a lot of abbreviations and internet-based jargon. Words like \"extra,\" \"lit,\" \"vibe,\" \"clout\" are common. The goal is to make the sentence sound more casual and trendy among that demographic.\n",
      "\n",
      "Looking at the original sentence: \"Why do I have to attend this call. The information they are going to provide is pretty much what I already know.\" I need to capture the essence of boredom or lack of necessity. So, maybe something like \"Wtf rn\" as an abbreviation for \"Why the face right now,\" which conveys frustration.\n",
      "\n",
      "Next part: \"I can either ask them to provide me with the information or I can just skip this call.\" This is about options—either get info another way or skip the call. Using Genz slang, \"extra\" could mean unnecessary or over-the-top, so \"The info's extra.\" Then, for the choice, \"DM rn\" stands for \"Direct Message right now,\" which suggests preferring a quicker method. So, \"I’ll DM rn.\"\n",
      "\n",
      "Lastly: \"I don’t think I will get anything new from this call.\" This can be shortened to express doubt about gaining anything new, so \"No new vibes here.\" \n",
      "\n",
      "Putting it all together: \"Wtf rn tho, the info's extra & I'll DM rn, no new vibes here.\" Let me check the word count—yes, that’s 15 words. It captures the original meaning with Genz slang, and it's concise.\n",
      "\n",
      "I think this should meet the user's requirements. They probably want a quick response that sounds authentic to younger audiences, maybe for social media or casual communication.\n",
      "</think>\n",
      "\n",
      "\"Ugh why tho rn, they be spittin' repeat info & I'm like nah fam, DM rn bc no new vibes here.\"\n"
     ]
    }
   ],
   "source": [
    "# Example usage\n",
    "input_sentence = \"Why do I have to attend this call. The information they are going to provide is pretty much what I already know. I can either ask them to provide me with the information or I can just skip this call. I dont think I will get anything new from this call.\"\n",
    "paraphrased_text = paraphrase_with_ollama(input_sentence)\n",
    "\n",
    "print(\"Original Sentence:\")\n",
    "print(input_sentence)\n",
    "print(\"\\nParaphrased Sentence:\")\n",
    "print(paraphrased_text)\n"
   ]
  }
 ],
 "metadata": {
  "kernelspec": {
   "display_name": "Python 3 (ipykernel)",
   "language": "python",
   "name": "python3"
  },
  "language_info": {
   "codemirror_mode": {
    "name": "ipython",
    "version": 3
   },
   "file_extension": ".py",
   "mimetype": "text/x-python",
   "name": "python",
   "nbconvert_exporter": "python",
   "pygments_lexer": "ipython3",
   "version": "3.8.20"
  }
 },
 "nbformat": 4,
 "nbformat_minor": 2
}
